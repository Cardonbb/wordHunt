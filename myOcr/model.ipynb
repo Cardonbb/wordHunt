{
 "cells": [
  {
   "cell_type": "code",
   "execution_count": 13,
   "id": "b08994b4-2ce6-456a-aa98-393ca2dc089c",
   "metadata": {},
   "outputs": [
    {
     "name": "stdout",
     "output_type": "stream",
     "text": [
      "Classes found: ['A', 'B', 'C', 'D', 'E', 'F', 'G', 'H', 'I', 'J', 'K', 'L', 'M', 'N', 'O', 'P', 'R', 'S', 'T', 'U', 'V', 'W', 'X', 'Y']\n"
     ]
    }
   ],
   "source": [
    "from torchvision import datasets, transforms\n",
    "from torch.utils.data import DataLoader\n",
    "\n",
    "transform = transforms.Compose([\n",
    "    transforms.Grayscale(),\n",
    "    transforms.Resize((64, 64)),\n",
    "    transforms.ToTensor(),\n",
    "])\n",
    "\n",
    "dataset = datasets.ImageFolder(\"tiles_dataset\", transform=transform)\n",
    "dataloader = DataLoader(dataset, batch_size=16, shuffle=True)\n",
    "\n",
    "print(\"Classes found:\", dataset.classes)\n"
   ]
  },
  {
   "cell_type": "code",
   "execution_count": 30,
   "id": "cfbefd0d-1fbf-4173-a787-ce0c3f685e3b",
   "metadata": {},
   "outputs": [],
   "source": [
    "import torch\n",
    "import torch.nn as nn\n",
    "import torchvision.transforms as transforms\n",
    "from PIL import Image\n",
    "import torch.nn.functional as F\n"
   ]
  },
  {
   "cell_type": "code",
   "execution_count": null,
   "id": "53741f01-f629-49c4-99fb-58d6713475fe",
   "metadata": {},
   "outputs": [],
   "source": [
    "#LAYER 1 CONV2D"
   ]
  },
  {
   "cell_type": "code",
   "execution_count": 20,
   "id": "d363d726-6bac-4f7c-8e13-11a406bc174e",
   "metadata": {},
   "outputs": [
    {
     "name": "stdout",
     "output_type": "stream",
     "text": [
      "Input shape: torch.Size([1, 1, 64, 64])\n"
     ]
    }
   ],
   "source": [
    "img = Image.open(\"tiles_dataset/A/Atile.png\").convert(\"L\")\n",
    "\n",
    "transform = transforms.Compose([\n",
    "    transforms.Resize((64, 64)),\n",
    "    transforms.ToTensor(),  \n",
    "])\n",
    "x = transform(img).unsqueeze(0)  \n",
    "\n",
    "print(\"Input shape:\", x.shape)\n"
   ]
  },
  {
   "cell_type": "code",
   "execution_count": 21,
   "id": "6945b68e-9e1c-434f-9d38-80b03523c6fb",
   "metadata": {
    "scrolled": true
   },
   "outputs": [
    {
     "name": "stdout",
     "output_type": "stream",
     "text": [
      "Output shape: torch.Size([1, 4, 64, 64])\n"
     ]
    }
   ],
   "source": [
    "conv = nn.Conv2d(in_channels=1, out_channels=4, kernel_size=3, padding=1)\n",
    "\n",
    "output = conv(x)\n",
    "\n",
    "print(\"Output shape:\", output.shape)\n"
   ]
  },
  {
   "cell_type": "code",
   "execution_count": 25,
   "id": "e3f65e8b-c4be-4648-8f26-d36e38df37af",
   "metadata": {},
   "outputs": [],
   "source": [
    "#LAYER 2 MaxPool2d"
   ]
  },
  {
   "cell_type": "code",
   "execution_count": 27,
   "id": "cc2c5b9b-6fa4-4fa4-86a8-631ee9ab8554",
   "metadata": {},
   "outputs": [
    {
     "name": "stdout",
     "output_type": "stream",
     "text": [
      "Before pooling: torch.Size([1, 4, 64, 64])\n",
      "After pooling:  torch.Size([1, 4, 32, 32])\n"
     ]
    }
   ],
   "source": [
    "pool = nn.MaxPool2d(kernel_size=2, stride=2)\n",
    "\n",
    "pooled = pool(output)\n",
    "print(\"Before pooling:\", output.shape)\n",
    "print(\"After pooling: \", pooled.shape)\n"
   ]
  },
  {
   "cell_type": "code",
   "execution_count": null,
   "id": "565a4e63-e156-413d-8968-b50a34aa2b93",
   "metadata": {},
   "outputs": [],
   "source": [
    "#Layer 3 Classifer Header"
   ]
  },
  {
   "cell_type": "code",
   "execution_count": 29,
   "id": "4c3b5799-729e-4095-a725-cb5439f2ba84",
   "metadata": {},
   "outputs": [
    {
     "name": "stdout",
     "output_type": "stream",
     "text": [
      "torch.Size([1, 1, 64, 64])\n",
      "torch.Size([1, 4096])\n"
     ]
    }
   ],
   "source": [
    "print(x.shape)\n",
    "\n",
    "x = torch.flatten(x, 1)\n",
    "\n",
    "print(x.shape)"
   ]
  },
  {
   "cell_type": "code",
   "execution_count": 33,
   "id": "4afcf48b-a4c0-45f5-96c7-492733cd32a9",
   "metadata": {},
   "outputs": [],
   "source": [
    "class TileCNN(nn.Module):\n",
    "    def __init__(self):\n",
    "        super(TileCNN, self).__init__()\n",
    "        self.conv1 = nn.Conv2d(in_channels=1, out_channels=16, kernel_size=3, padding=1)\n",
    "        self.conv2 = nn.Conv2d(in_channels=16, out_channels=32, kernel_size=3, padding=1)\n",
    "        self.pool = nn.MaxPool2d(kernel_size=2, stride=2)\n",
    "        self.flatten = nn.Flatten()\n",
    "        self.fc1 = nn.Linear(8192, 128)\n",
    "        self.fc2 = nn.Linear(128, 24)\n",
    "\n",
    "    def forward(self, x):\n",
    "        x = self.pool(F.relu(self.conv1(x)))\n",
    "        x = self.pool(F.relu(self.conv2(x)))\n",
    "        x = self.flatten(x)\n",
    "        x = F.relu(self.fc1(x))\n",
    "        x = self.fc2(x)\n",
    "        return x"
   ]
  },
  {
   "cell_type": "code",
   "execution_count": 34,
   "id": "b8261a1b-0431-44d8-9619-4c8f03d959bf",
   "metadata": {},
   "outputs": [
    {
     "name": "stdout",
     "output_type": "stream",
     "text": [
      "torch.Size([1, 24])\n"
     ]
    }
   ],
   "source": [
    "model = TileCNN()\n",
    "sample = torch.randn(1, 1, 64, 64)  # 1 grayscale tile\n",
    "output = model(sample)\n",
    "print(output.shape)\n"
   ]
  },
  {
   "cell_type": "code",
   "execution_count": 39,
   "id": "38a6ed3e-8335-47c2-af13-551b3148a376",
   "metadata": {},
   "outputs": [],
   "source": [
    "loss_fn = nn.CrossEntropyLoss()\n",
    "optimizer = torch.optim.Adam(model.parameters(), lr=0.001)\n",
    "epochs = 50"
   ]
  },
  {
   "cell_type": "code",
   "execution_count": 44,
   "id": "a8b12edc-dc0a-4d85-bb46-de67b64dce11",
   "metadata": {},
   "outputs": [
    {
     "name": "stdout",
     "output_type": "stream",
     "text": [
      "Epoch 1/50, Loss: 0.0008\n",
      "Epoch 2/50, Loss: 0.0008\n",
      "Epoch 3/50, Loss: 0.0009\n",
      "Epoch 4/50, Loss: 0.0009\n",
      "Epoch 5/50, Loss: 0.0008\n",
      "Epoch 6/50, Loss: 0.0008\n",
      "Epoch 7/50, Loss: 0.0008\n",
      "Epoch 8/50, Loss: 0.0007\n",
      "Epoch 9/50, Loss: 0.0008\n",
      "Epoch 10/50, Loss: 0.0007\n",
      "Epoch 11/50, Loss: 0.0007\n",
      "Epoch 12/50, Loss: 0.0008\n",
      "Epoch 13/50, Loss: 0.0007\n",
      "Epoch 14/50, Loss: 0.0008\n",
      "Epoch 15/50, Loss: 0.0008\n",
      "Epoch 16/50, Loss: 0.0007\n",
      "Epoch 17/50, Loss: 0.0007\n",
      "Epoch 18/50, Loss: 0.0007\n",
      "Epoch 19/50, Loss: 0.0007\n",
      "Epoch 20/50, Loss: 0.0007\n",
      "Epoch 21/50, Loss: 0.0007\n",
      "Epoch 22/50, Loss: 0.0007\n",
      "Epoch 23/50, Loss: 0.0007\n",
      "Epoch 24/50, Loss: 0.0007\n",
      "Epoch 25/50, Loss: 0.0007\n",
      "Epoch 26/50, Loss: 0.0007\n",
      "Epoch 27/50, Loss: 0.0007\n",
      "Epoch 28/50, Loss: 0.0006\n",
      "Epoch 29/50, Loss: 0.0007\n",
      "Epoch 30/50, Loss: 0.0007\n",
      "Epoch 31/50, Loss: 0.0006\n",
      "Epoch 32/50, Loss: 0.0006\n",
      "Epoch 33/50, Loss: 0.0006\n",
      "Epoch 34/50, Loss: 0.0006\n",
      "Epoch 35/50, Loss: 0.0006\n",
      "Epoch 36/50, Loss: 0.0006\n",
      "Epoch 37/50, Loss: 0.0006\n",
      "Epoch 38/50, Loss: 0.0006\n",
      "Epoch 39/50, Loss: 0.0006\n",
      "Epoch 40/50, Loss: 0.0006\n",
      "Epoch 41/50, Loss: 0.0006\n",
      "Epoch 42/50, Loss: 0.0006\n",
      "Epoch 43/50, Loss: 0.0006\n",
      "Epoch 44/50, Loss: 0.0006\n",
      "Epoch 45/50, Loss: 0.0006\n",
      "Epoch 46/50, Loss: 0.0006\n",
      "Epoch 47/50, Loss: 0.0006\n",
      "Epoch 48/50, Loss: 0.0006\n",
      "Epoch 49/50, Loss: 0.0005\n",
      "Epoch 50/50, Loss: 0.0005\n"
     ]
    }
   ],
   "source": [
    "for epoch in range(epochs):\n",
    "    running_loss = 0.0\n",
    "\n",
    "    for images, labels in dataloader:\n",
    "        outputs = model(images)\n",
    "        loss = loss_fn(outputs, labels)\n",
    "\n",
    "        optimizer.zero_grad()\n",
    "        loss.backward()\n",
    "        optimizer.step()\n",
    "\n",
    "        running_loss += loss.item()\n",
    "\n",
    "    print(f\"Epoch {epoch+1}/{epochs}, Loss: {running_loss:.4f}\")\n"
   ]
  },
  {
   "cell_type": "code",
   "execution_count": 46,
   "id": "c2a21647-dcf3-4026-b00e-5006ef77f767",
   "metadata": {},
   "outputs": [
    {
     "name": "stdout",
     "output_type": "stream",
     "text": [
      "Predicted: C\n"
     ]
    }
   ],
   "source": [
    "transform = transforms.Compose([\n",
    "    transforms.Grayscale(),\n",
    "    transforms.Resize((64, 64)),\n",
    "    transforms.ToTensor(),\n",
    "])\n",
    "\n",
    "image = Image.open(\"tiles_dataset/C/Ctile.png\")\n",
    "image_tensor = transform(image).unsqueeze(0)\n",
    "\n",
    "model.eval()\n",
    "with torch.no_grad():\n",
    "    output = model(image_tensor)\n",
    "    predicted_class = torch.argmax(output, dim=1).item()\n",
    "idx_to_class = dataset.classes  \n",
    "predicted_letter = idx_to_class[predicted_class]\n",
    "print(\"Predicted:\", predicted_letter)\n",
    "\n"
   ]
  },
  {
   "cell_type": "code",
   "execution_count": 49,
   "id": "36f835a4-0c51-4ee3-87c4-c908d368c73c",
   "metadata": {},
   "outputs": [
    {
     "data": {
      "text/plain": [
       "TileCNN(\n",
       "  (conv1): Conv2d(1, 16, kernel_size=(3, 3), stride=(1, 1), padding=(1, 1))\n",
       "  (conv2): Conv2d(16, 32, kernel_size=(3, 3), stride=(1, 1), padding=(1, 1))\n",
       "  (pool): MaxPool2d(kernel_size=2, stride=2, padding=0, dilation=1, ceil_mode=False)\n",
       "  (flatten): Flatten(start_dim=1, end_dim=-1)\n",
       "  (fc1): Linear(in_features=8192, out_features=128, bias=True)\n",
       "  (fc2): Linear(in_features=128, out_features=24, bias=True)\n",
       ")"
      ]
     },
     "execution_count": 49,
     "metadata": {},
     "output_type": "execute_result"
    }
   ],
   "source": [
    "#if reloaded \n",
    "\n",
    "model = TileCNN()  \n",
    "model.load_state_dict(torch.load(\"tile_cnn.pth\"))\n",
    "model.eval()\n"
   ]
  },
  {
   "cell_type": "code",
   "execution_count": null,
   "id": "59c8cb03-b221-46ed-ab2e-805ddd646703",
   "metadata": {},
   "outputs": [],
   "source": []
  }
 ],
 "metadata": {
  "kernelspec": {
   "display_name": "Python 3 (ipykernel)",
   "language": "python",
   "name": "python3"
  },
  "language_info": {
   "codemirror_mode": {
    "name": "ipython",
    "version": 3
   },
   "file_extension": ".py",
   "mimetype": "text/x-python",
   "name": "python",
   "nbconvert_exporter": "python",
   "pygments_lexer": "ipython3",
   "version": "3.9.5"
  }
 },
 "nbformat": 4,
 "nbformat_minor": 5
}
